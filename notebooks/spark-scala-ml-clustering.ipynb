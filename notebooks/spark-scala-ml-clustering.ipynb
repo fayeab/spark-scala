{
 "cells": [
  {
   "cell_type": "markdown",
   "metadata": {},
   "source": [
    "## Package ml-clustering (org.apache.spark.ml.clustering)\n",
    "\n",
    "L'objectif est de faire une présentation de la librairie de clustering de Spark ML (Scala).\n",
    "\n",
    "**Note :** Je mets plutôt l'accent sur la démarche et non sur la recherche d'un meilleur modèle."
   ]
  },
  {
   "cell_type": "code",
   "execution_count": 2,
   "metadata": {},
   "outputs": [
    {
     "name": "stdout",
     "output_type": "stream",
     "text": [
      "+-----------+--------+------+-------+-------+-------+-------+---------+-----------+---------+\n",
      "|   Fromages|calories|sodium|calcium|lipides|retinol|folates|proteines|cholesterol|magnesium|\n",
      "+-----------+--------+------+-------+-------+-------+-------+---------+-----------+---------+\n",
      "|CarredelEst|     314| 353.5|   72.6|   26.3|   51.6|   30.3|     21.0|         70|       20|\n",
      "|    Babybel|     314| 238.0|  209.8|   25.1|   63.7|    6.4|     22.6|         70|       27|\n",
      "|   Beaufort|     401| 112.0|  259.4|   33.3|   54.9|    1.2|     26.6|        120|       41|\n",
      "+-----------+--------+------+-------+-------+-------+-------+---------+-----------+---------+\n",
      "only showing top 3 rows\n",
      "\n"
     ]
    },
    {
     "data": {
      "text/plain": [
       "import org.apache.spark.ml.feature.VectorAssembler\r\n",
       "import org.apache.spark.ml.{Pipeline, PipelineModel}\r\n",
       "import org.apache.spark.ml.clustering.{KMeans, KMeansModel, BisectingKMeans, BisectingKMeansModel, GaussianMixture, GaussianMixtureModel}\r\n",
       "import org.apache.spark.ml.evaluation.ClusteringEvaluator\r\n",
       "fromageDF: org.apache.spark.sql.DataFrame = [Fromages: string, calories: int ... 8 more fields]\r\n",
       "features: Array[String] = Array(calories, sodium, calcium, lipides, retinol, folates, proteines, cholesterol, magnesium)\r\n",
       "featuresName: String = features\r\n",
       "assembler: org.apache.spark.ml.feature.VectorAssembler = VectorAssembler: uid=vecAssembler_9c85ca4e2d24, handleInvalid=error, numInputCols=9\r\n",
       "evaluatorSilhouette: org.apache.spark.ml.evaluation.ClusteringEvaluator = ClusteringEvaluator: uid=...\r\n"
      ]
     },
     "execution_count": 2,
     "metadata": {},
     "output_type": "execute_result"
    }
   ],
   "source": [
    "import org.apache.spark.ml.feature.VectorAssembler\n",
    "import org.apache.spark.ml.{Pipeline, PipelineModel}\n",
    "import org.apache.spark.ml.clustering.{KMeans, KMeansModel,\n",
    "                                       BisectingKMeans, BisectingKMeansModel,\n",
    "                                       GaussianMixture, GaussianMixtureModel\n",
    "                                      }\n",
    "import org.apache.spark.ml.evaluation.ClusteringEvaluator\n",
    "\n",
    "// Charger les données\n",
    "val fromageDF = spark.read.option(\"header\",  true)\n",
    "                   .option(\"inferSchema\",  true)\n",
    "                   .option(\"delimiter\", \"\\t\").csv(\"../data/fromage.txt\")\n",
    "\n",
    "fromageDF.show(3)\n",
    "\n",
    "val features = Array(\"calories\", \"sodium\", \"calcium\", \"lipides\", \"retinol\",\n",
    "                     \"folates\", \"proteines\", \"cholesterol\", \"magnesium\")\n",
    "\n",
    "val featuresName = \"features\" \n",
    "val assembler = new VectorAssembler()\n",
    "  .setInputCols(features)\n",
    "  .setOutputCol(featuresName)\n",
    "\n",
    "val evaluatorSilhouette = new ClusteringEvaluator()"
   ]
  },
  {
   "cell_type": "markdown",
   "metadata": {},
   "source": [
    "## 1. K-means"
   ]
  },
  {
   "cell_type": "markdown",
   "metadata": {},
   "source": [
    "L’objectif de la classification automatique est de minimiser l'inertie intra-classes pour un nombre de classes k fixé. Le principe est le suivant :\n",
    "\n",
    "* Fixer le nombre de classes :\n",
    "* Initialiser les centres des classes\n",
    "* Déplacer les observations d'une classe à l’autre pour obtenir une partition meilleure\n",
    "\n",
    "Les algorithmes de ce type diffèrent souvent :   \n",
    "\n",
    "* La façon d'initialiser les centres des classes\n",
    "* La manière de mettre à jour les centres des classes à chaque itération"
   ]
  },
  {
   "cell_type": "code",
   "execution_count": 3,
   "metadata": {},
   "outputs": [
    {
     "name": "stdout",
     "output_type": "stream",
     "text": [
      "Silhouette with squared euclidean distance = 0,513 at k=4\n",
      "Cluster Centers: \n",
      "[363.875,146.125,257.02500000000003,29.05,63.6,3.8625,26.562500000000004,96.25,38.875]\n",
      "[101.75,44.75,133.75,6.275,55.15,16.475,7.200000000000001,18.25,11.25]\n",
      "[286.0,191.33333333333331,79.73333333333332,24.0,101.39999999999999,29.46666666666667,17.03333333333333,70.0,21.666666666666664]\n",
      "[323.2142857142857,297.8928571428571,182.56428571428572,26.507142857142856,66.12142857142857,13.721428571428572,20.892857142857142,79.28571428571428,25.785714285714285]\n"
     ]
    },
    {
     "data": {
      "text/plain": [
       "k: Int = 4\r\n",
       "kmeans: org.apache.spark.ml.clustering.KMeans = kmeans_bc0b552aedab\r\n",
       "pipeline: org.apache.spark.ml.Pipeline = pipeline_db418a854394\r\n",
       "model: org.apache.spark.ml.PipelineModel = pipeline_db418a854394\r\n",
       "predictions: org.apache.spark.sql.DataFrame = [Fromages: string, calories: int ... 10 more fields]\r\n",
       "silhouette: Double = 0.5126405368943555\r\n",
       "kmeanModel: org.apache.spark.ml.clustering.KMeansModel = KMeansModel: uid=kmeans_bc0b552aedab, k=4, distanceMeasure=euclidean, numFeatures=9\r\n"
      ]
     },
     "execution_count": 3,
     "metadata": {},
     "output_type": "execute_result"
    }
   ],
   "source": [
    "val k = 4\n",
    "\n",
    "val kmeans = new KMeans().setK(k).setSeed(123456)\n",
    "   .setFeaturesCol(featuresName)\n",
    "\n",
    "val pipeline = new Pipeline().setStages(Array(assembler, kmeans))\n",
    "\n",
    "val model = pipeline.fit(fromageDF)\n",
    "\n",
    "val predictions = model.transform(fromageDF)\n",
    "\n",
    "val silhouette = evaluatorSilhouette.evaluate(predictions)\n",
    "\n",
    "println(f\"Silhouette with squared euclidean distance = $silhouette%.3f at k=$k\")\n",
    "\n",
    "// Shows the result.\n",
    "val kmeanModel = model.stages.last.asInstanceOf[KMeansModel]\n",
    "println(\"Cluster Centers: \")\n",
    "\n",
    "kmeanModel.clusterCenters.foreach(println)"
   ]
  },
  {
   "cell_type": "markdown",
   "metadata": {},
   "source": [
    "## 2. Bisecting k-means\n",
    "\n",
    "Le **Bisecting k-means** est une approche hybride entre une classification hiérarchique un k-means. Le principe est le suivant : \n",
    "* 1. Choisir un groupe\n",
    "* 2. Diviser le groupe en deux sous-groupes à l'aide du K-Means (étape de bisecting)\n",
    "* 3. Répéter l'étape 2, l'étape de bisecting, pour trouver la division meilleure\n",
    "* 4. Répéter les étapes 1, 2 et 3 jusqu'à atteindre le critère de convergence"
   ]
  },
  {
   "cell_type": "code",
   "execution_count": 4,
   "metadata": {},
   "outputs": [
    {
     "name": "stdout",
     "output_type": "stream",
     "text": [
      "Silhouette with squared euclidean distance = 0,499 at k=4\n",
      "Cluster Centers: \n",
      "[112.33333333333333,29.333333333333332,106.43333333333334,7.233333333333334,59.23333333333333,21.0,8.233333333333334,20.0,10.333333333333332]\n",
      "[138.0,125.5,144.25,10.95,96.7,16.95,7.6,31.5,15.0]\n",
      "[364.22222222222223,158.33333333333331,257.8,29.02222222222222,61.955555555555556,4.066666666666666,26.166666666666668,95.55555555555556,37.888888888888886]\n",
      "[320.6666666666667,288.56666666666666,163.88666666666668,26.386666666666667,68.70666666666668,16.25333333333333,20.633333333333333,78.66666666666667,25.333333333333332]\n"
     ]
    },
    {
     "data": {
      "text/plain": [
       "k: Int = 4\r\n",
       "bkm: org.apache.spark.ml.clustering.BisectingKMeans = bisecting-kmeans_81e71c3d6183\r\n",
       "pipeline: org.apache.spark.ml.Pipeline = pipeline_76b474d876fb\r\n",
       "model: org.apache.spark.ml.PipelineModel = pipeline_76b474d876fb\r\n",
       "predictions: org.apache.spark.sql.DataFrame = [Fromages: string, calories: int ... 10 more fields]\r\n",
       "silhouette: Double = 0.4985007380025358\r\n",
       "bkmModel: org.apache.spark.ml.clustering.BisectingKMeansModel = BisectingKMeansModel: uid=bisecting-kmeans_81e71c3d6183, k=4, distanceMeasure=euclidean, numFeatures=9\r\n"
      ]
     },
     "execution_count": 4,
     "metadata": {},
     "output_type": "execute_result"
    }
   ],
   "source": [
    "val k = 4\n",
    "\n",
    "val bkm = new BisectingKMeans().setK(k).setSeed(123456)\n",
    "   .setFeaturesCol(featuresName)\n",
    "\n",
    "val pipeline = new Pipeline().setStages(Array(assembler, bkm))\n",
    "\n",
    "val model = pipeline.fit(fromageDF)\n",
    "\n",
    "val predictions = model.transform(fromageDF)\n",
    "\n",
    "val silhouette = evaluatorSilhouette.evaluate(predictions)\n",
    "\n",
    "println(f\"Silhouette with squared euclidean distance = $silhouette%.3f at k=$k\")\n",
    "\n",
    "// Shows the result.\n",
    "val bkmModel = model.stages.last.asInstanceOf[BisectingKMeansModel]\n",
    "println(\"Cluster Centers: \")\n",
    "\n",
    "bkmModel.clusterCenters.foreach(println)"
   ]
  },
  {
   "cell_type": "markdown",
   "metadata": {},
   "source": [
    "##  3. Modèle de mélanges gaussiens\n",
    "\n",
    "L'algorithme GMM cherche une distribution de gaussiennes multidimensionnelles qui s'adapte le mieux à la forme des données.\n",
    "\n",
    "La maximisation de la log vraisemblance se fait grâce à la méthode EM (expectation minimisation)."
   ]
  },
  {
   "cell_type": "code",
   "execution_count": 5,
   "metadata": {},
   "outputs": [
    {
     "name": "stdout",
     "output_type": "stream",
     "text": [
      "Silhouette with squared euclidean distance = 0,056 at k=4\n",
      "Gaussien 0:\n",
      "weight=0.4972488239933205\n",
      "mu=[323.3885419261037,249.99106437969996,189.78936892677967,26.19233365621317,64.85417062236904,9.376383115261243,21.339066622482484,80.13139463947476,27.024582485889074]\n",
      "sigma=\n",
      "2809.249047261747   1005.9614885561348   739.1925649447539    ... (9 total)\n",
      "1005.9614885561348  6653.510795957366    -549.7649863678694   ...\n",
      "739.1925649447539   -549.7649863678694   3495.8884292571397   ...\n",
      "237.75869947736922  122.55107271569388   28.812380154832635   ...\n",
      "-88.13771981384471  201.84776816429016   -275.78701213885006  ...\n",
      "-93.11499503606204  76.69577605652565    -271.64709530134564  ...\n",
      "173.00423529070073  -38.03440152088525   113.04660020556331   ...\n",
      "834.1777001223265   264.32612259691683   148.3184912458894    ...\n",
      "229.07847130460618  -114.07287351890987  363.44120248619595   ...\n",
      "\n",
      "Gaussien 1:\n",
      "weight=0.12532016894888748\n",
      "mu=[296.09151352949164,217.08975291558093,180.21800646266468,24.088677159666766,76.07034040671641,18.521656396278647,19.944116109728856,72.73428275945089,27.9336043990907]\n",
      "sigma=\n",
      "8174.128880799085    3286.212962529552    2100.9029035690114   ... (9 total)\n",
      "3286.212962529552    10275.735974935324   -433.86146852299044  ...\n",
      "2100.9029035690114   -433.86146852299044  5990.830949746027    ...\n",
      "696.1155921942232    298.79272420788277   104.20951930506128   ...\n",
      "-300.34748317204696  257.75153220037      -889.0639594305511   ...\n",
      "-164.6580744390318   647.9026686935779    -706.9762494512613   ...\n",
      "596.9636308175502    214.93647672974902   324.93371918865586   ...\n",
      "2334.9054920852072   638.993407173192     600.9607739880676    ...\n",
      "810.3870296726533    -101.71579973544092  513.4961439069046    ...\n",
      "\n",
      "Gaussien 2:\n",
      "weight=0.12540322761047448\n",
      "mu=[296.07550074348165,217.11625331593876,180.18390452084137,24.088354223258786,76.09992451496709,18.530997975974675,19.94183842638965,72.72961814023111,27.92981288921883]\n",
      "sigma=\n",
      "8169.600328190679   3284.804385255016    2101.3162383024605   ... (9 total)\n",
      "3284.804385255016   10271.502958691655   -433.08436021499335  ...\n",
      "2101.3162383024605  -433.08436021499335  5989.661612143695    ...\n",
      "695.6965054426828   298.6772463260655    104.22290381104942   ...\n",
      "-301.617484399351   257.6054571062348    -890.7724438051705   ...\n",
      "-164.7845979192314  647.7675132294037    -706.9429059558241   ...\n",
      "596.6542344906226   214.82865118003824   324.9256212359827    ...\n",
      "2333.58293973876    638.7816856573346    601.0398183227866    ...\n",
      "809.9856300950665   -101.62557291602909  513.399211963717     ...\n",
      "\n",
      "Gaussien 3:\n",
      "weight=0.25202777944731763\n",
      "mu=[257.88763772792527,124.37375256283929,183.23911811116295,20.215863242574912,64.42577425881245,14.692687022465696,18.08518426234168,65.4902555657583,25.887791775010296]\n",
      "sigma=\n",
      "15825.02544184467   6437.650323649015   7206.240983994051    ... (9 total)\n",
      "6437.650323649015   11363.13558954791   1201.3476462876852   ...\n",
      "7206.240983994051   1201.3476462876852  7226.983879005492    ...\n",
      "1394.228398978459   599.45307161417     583.5593243153227    ...\n",
      "134.52475001193608  682.2682892361805   -453.79480473175926  ...\n",
      "-717.8985180593725  262.5554518335836   -773.7203942839151   ...\n",
      "1092.0998989854281  391.8765702433349   618.9072226933964    ...\n",
      "4953.132694073121   1555.663948623768   2394.786733605343    ...\n",
      "1668.6317867787773  369.0558539484222   1008.6916601406082   ...\n",
      "\n"
     ]
    },
    {
     "data": {
      "text/plain": [
       "k: Int = 4\r\n",
       "gmm: org.apache.spark.ml.clustering.GaussianMixture = GaussianMixture_d6f426357d69\r\n",
       "pipeline: org.apache.spark.ml.Pipeline = pipeline_0b770bbc4b74\r\n",
       "model: org.apache.spark.ml.PipelineModel = pipeline_0b770bbc4b74\r\n",
       "predictions: org.apache.spark.sql.DataFrame = [Fromages: string, calories: int ... 11 more fields]\r\n",
       "silhouette: Double = 0.056150879368063754\r\n",
       "gmmModel: org.apache.spark.ml.clustering.GaussianMixtureModel = GaussianMixtureModel: uid=GaussianMixture_d6f426357d69, k=4, numFeatures=9\r\n"
      ]
     },
     "execution_count": 5,
     "metadata": {},
     "output_type": "execute_result"
    }
   ],
   "source": [
    "val k = 4\n",
    "\n",
    "val gmm = new GaussianMixture().setK(k).setSeed(123456)\n",
    "   .setFeaturesCol(featuresName)\n",
    "\n",
    "val pipeline = new Pipeline().setStages(Array(assembler, gmm))\n",
    "\n",
    "val model = pipeline.fit(fromageDF)\n",
    "\n",
    "val predictions = model.transform(fromageDF)\n",
    "\n",
    "val silhouette = evaluatorSilhouette.evaluate(predictions)\n",
    "\n",
    "println(f\"Silhouette with squared euclidean distance = $silhouette%.3f at k=$k\")\n",
    "\n",
    "val gmmModel = model.stages.last.asInstanceOf[GaussianMixtureModel]\n",
    "\n",
    "// output parameters of mixture model model\n",
    "for (i <- 0 until gmmModel.getK) {\n",
    "  println(s\"Gaussien $i:\\nweight=${gmmModel.weights(i)}\\n\" +\n",
    "      s\"mu=${gmmModel.gaussians(i).mean}\\nsigma=\\n${gmmModel.gaussians(i).cov}\\n\")\n",
    "}"
   ]
  },
  {
   "cell_type": "markdown",
   "metadata": {},
   "source": [
    "Sources :   \n",
    "[Documentation Spark](https://spark.apache.org/docs/3.0.0/ml-clustering.html)   \n",
    "[WikiStat](https://github.com/wikistat/)  "
   ]
  }
 ],
 "metadata": {
  "kernelspec": {
   "display_name": "spylon-kernel",
   "language": "scala",
   "name": "spylon-kernel"
  },
  "language_info": {
   "codemirror_mode": "text/x-scala",
   "file_extension": ".scala",
   "help_links": [
    {
     "text": "MetaKernel Magics",
     "url": "https://metakernel.readthedocs.io/en/latest/source/README.html"
    }
   ],
   "mimetype": "text/x-scala",
   "name": "scala",
   "pygments_lexer": "scala",
   "version": "0.4.1"
  }
 },
 "nbformat": 4,
 "nbformat_minor": 4
}
